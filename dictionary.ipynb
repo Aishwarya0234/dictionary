{
 "cells": [
  {
   "cell_type": "code",
   "execution_count": 1,
   "id": "c168790f-d5cf-44aa-ae10-2f5052f4214b",
   "metadata": {},
   "outputs": [
    {
     "data": {
      "text/plain": [
       "{'a': 1, 'b': 2, 'c': 3}"
      ]
     },
     "execution_count": 1,
     "metadata": {},
     "output_type": "execute_result"
    }
   ],
   "source": [
    "#Dictionary\n",
    "my_dict = {'a': 1, 'b': 2, 'c': 3}\n",
    "my_dict"
   ]
  },
  {
   "cell_type": "code",
   "execution_count": 6,
   "id": "d4eac6fe-031b-4c39-ac73-2d1642f0d19c",
   "metadata": {},
   "outputs": [
    {
     "data": {
      "text/html": [
       "<div>\n",
       "<style scoped>\n",
       "    .dataframe tbody tr th:only-of-type {\n",
       "        vertical-align: middle;\n",
       "    }\n",
       "\n",
       "    .dataframe tbody tr th {\n",
       "        vertical-align: top;\n",
       "    }\n",
       "\n",
       "    .dataframe thead th {\n",
       "        text-align: right;\n",
       "    }\n",
       "</style>\n",
       "<table border=\"1\" class=\"dataframe\">\n",
       "  <thead>\n",
       "    <tr style=\"text-align: right;\">\n",
       "      <th></th>\n",
       "      <th>Name</th>\n",
       "      <th>Age</th>\n",
       "      <th>Gender</th>\n",
       "      <th>City</th>\n",
       "    </tr>\n",
       "  </thead>\n",
       "  <tbody>\n",
       "    <tr>\n",
       "      <th>0</th>\n",
       "      <td>John</td>\n",
       "      <td>25</td>\n",
       "      <td>m</td>\n",
       "      <td>New York</td>\n",
       "    </tr>\n",
       "    <tr>\n",
       "      <th>1</th>\n",
       "      <td>Sachin</td>\n",
       "      <td>30</td>\n",
       "      <td>m</td>\n",
       "      <td>India</td>\n",
       "    </tr>\n",
       "    <tr>\n",
       "      <th>2</th>\n",
       "      <td>Aishwarya</td>\n",
       "      <td>35</td>\n",
       "      <td>f</td>\n",
       "      <td>London</td>\n",
       "    </tr>\n",
       "    <tr>\n",
       "      <th>3</th>\n",
       "      <td>Dhanashri</td>\n",
       "      <td>40</td>\n",
       "      <td>f</td>\n",
       "      <td>Tokyo</td>\n",
       "    </tr>\n",
       "  </tbody>\n",
       "</table>\n",
       "</div>"
      ],
      "text/plain": [
       "        Name  Age Gender      City\n",
       "0       John   25      m  New York\n",
       "1     Sachin   30      m     India\n",
       "2  Aishwarya   35      f    London\n",
       "3  Dhanashri   40      f     Tokyo"
      ]
     },
     "execution_count": 6,
     "metadata": {},
     "output_type": "execute_result"
    }
   ],
   "source": [
    "my_dict = {'Name': ['John', 'Sachin', 'Aishwarya', 'Dhanashri'],\n",
    "        'Age': [25, 30, 35, 40],\n",
    "        'Gender':['m','m','f','f'],\n",
    "        'City': ['New York', 'India', 'London', 'Tokyo'],}\n",
    "my_dict\n",
    "import pandas as pd\n",
    "pd.DataFrame(my_dict)\n"
   ]
  },
  {
   "cell_type": "code",
   "execution_count": 8,
   "id": "b728086b-2ec1-4afd-a88f-40b0a498898b",
   "metadata": {},
   "outputs": [
    {
     "name": "stdout",
     "output_type": "stream",
     "text": [
      "Keys: dict_keys(['a', 'b', 'c'])\n"
     ]
    }
   ],
   "source": [
    "#keys \n",
    "my_dict  = {'a': 1, 'b': 2, 'c': 3}\n",
    "keys = my_dict.keys()\n",
    "print(\"Keys:\", keys) "
   ]
  },
  {
   "cell_type": "code",
   "execution_count": 9,
   "id": "f7cc49fb-9149-4af5-88ce-1d33eb296657",
   "metadata": {},
   "outputs": [
    {
     "name": "stdout",
     "output_type": "stream",
     "text": [
      "Values: dict_values([1, 2, 3])\n"
     ]
    }
   ],
   "source": [
    "# Using dict.values() to get a list of values\n",
    "values = my_dict.values()\n",
    "print(\"Values:\", values)"
   ]
  },
  {
   "cell_type": "code",
   "execution_count": 10,
   "id": "61214607-49c2-4634-a7f7-058bbdaac394",
   "metadata": {},
   "outputs": [
    {
     "name": "stdout",
     "output_type": "stream",
     "text": [
      "Items: dict_items([('a', 1), ('b', 2), ('c', 3)])\n"
     ]
    }
   ],
   "source": [
    "my_dict.items()\n",
    "print(\"Items:\", items)  "
   ]
  },
  {
   "cell_type": "code",
   "execution_count": 12,
   "id": "d40606b6-24d7-4366-b08b-3fe7e018b3d3",
   "metadata": {},
   "outputs": [
    {
     "name": "stdout",
     "output_type": "stream",
     "text": [
      "Value of 'a': 1\n"
     ]
    }
   ],
   "source": [
    "#value\n",
    "value = my_dict.get('a')\n",
    "print(\"Value of 'a':\", value)"
   ]
  },
  {
   "cell_type": "code",
   "execution_count": 13,
   "id": "461546e8-81c1-4ed2-9dd7-51faeb5a7293",
   "metadata": {},
   "outputs": [
    {
     "name": "stdout",
     "output_type": "stream",
     "text": [
      "Removed item: 2\n"
     ]
    }
   ],
   "source": [
    "removed_item = my_dict.pop('b')\n",
    "print(\"Removed item:\", removed_item)"
   ]
  },
  {
   "cell_type": "code",
   "execution_count": 16,
   "id": "cde81562-0737-4c9d-b053-8e58800541bf",
   "metadata": {},
   "outputs": [
    {
     "name": "stdout",
     "output_type": "stream",
     "text": [
      "Merged dictionary: {'a': 1, 'c': 3}\n"
     ]
    }
   ],
   "source": [
    "#update\n",
    "my_dict.update(my_dict)\n",
    "print(\"Merged dictionary:\", my_dict)"
   ]
  },
  {
   "cell_type": "code",
   "execution_count": 17,
   "id": "0f0f3bcc-8715-4d10-a3c8-c68dfe51b147",
   "metadata": {},
   "outputs": [
    {
     "name": "stdout",
     "output_type": "stream",
     "text": [
      "Cleared dictionary: {}\n"
     ]
    }
   ],
   "source": [
    "#remove\n",
    "my_dict.clear()\n",
    "print(\"Cleared dictionary:\", my_dict)"
   ]
  },
  {
   "cell_type": "code",
   "execution_count": 21,
   "id": "79fe7e8f-ca5c-456e-9b45-8da0f0121bee",
   "metadata": {},
   "outputs": [
    {
     "name": "stdout",
     "output_type": "stream",
     "text": [
      "Copy dictionary: {'x': 10, 'y': 20}\n"
     ]
    }
   ],
   "source": [
    "original_dict = {'x': 10, 'y': 20}\n",
    "copy_dict = original_dict.copy()\n",
    "print(\"Copy dictionary:\", copy_dict)"
   ]
  },
  {
   "cell_type": "code",
   "execution_count": 20,
   "id": "2f73f00d-11d7-4458-b1b1-17d940bf741b",
   "metadata": {},
   "outputs": [
    {
     "name": "stdout",
     "output_type": "stream",
     "text": [
      "Modified copy dictionary: {'x': 10, 'y': 20, 'z': 30}\n"
     ]
    }
   ],
   "source": [
    "#modify\n",
    "copy_dict['z'] = 30\n",
    "print(\"Modified copy dictionary:\", copy_dict)\n"
   ]
  },
  {
   "cell_type": "code",
   "execution_count": null,
   "id": "37abd17a-d54f-4133-965b-1d76b5e77230",
   "metadata": {},
   "outputs": [],
   "source": []
  }
 ],
 "metadata": {
  "kernelspec": {
   "display_name": "Python 3 (ipykernel)",
   "language": "python",
   "name": "python3"
  },
  "language_info": {
   "codemirror_mode": {
    "name": "ipython",
    "version": 3
   },
   "file_extension": ".py",
   "mimetype": "text/x-python",
   "name": "python",
   "nbconvert_exporter": "python",
   "pygments_lexer": "ipython3",
   "version": "3.11.7"
  }
 },
 "nbformat": 4,
 "nbformat_minor": 5
}
